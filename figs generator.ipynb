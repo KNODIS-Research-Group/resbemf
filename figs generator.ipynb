{
 "cells": [
  {
   "cell_type": "code",
   "execution_count": null,
   "metadata": {
    "ExecuteTime": {
     "end_time": "2022-10-04T11:39:38.341843Z",
     "start_time": "2022-10-04T11:39:33.771920Z"
    },
    "nbdime-conflicts": {
     "local_diff": [
      {
       "diff": [
        {
         "diff": [
          {
           "key": 0,
           "op": "addrange",
           "valuelist": [
            "2022-10-03T20:39:19.835653Z"
           ]
          },
          {
           "key": 0,
           "length": 1,
           "op": "removerange"
          }
         ],
         "key": "end_time",
         "op": "patch"
        },
        {
         "diff": [
          {
           "key": 0,
           "op": "addrange",
           "valuelist": [
            "2022-10-03T20:39:15.238861Z"
           ]
          },
          {
           "key": 0,
           "length": 1,
           "op": "removerange"
          }
         ],
         "key": "start_time",
         "op": "patch"
        }
       ],
       "key": "ExecuteTime",
       "op": "patch"
      }
     ],
     "remote_diff": [
      {
       "diff": [
        {
         "diff": [
          {
           "key": 0,
           "op": "addrange",
           "valuelist": [
            "2022-05-30T08:24:36.745102Z"
           ]
          },
          {
           "key": 0,
           "length": 1,
           "op": "removerange"
          }
         ],
         "key": "end_time",
         "op": "patch"
        },
        {
         "diff": [
          {
           "key": 0,
           "op": "addrange",
           "valuelist": [
            "2022-05-30T08:24:32.065231Z"
           ]
          },
          {
           "key": 0,
           "length": 1,
           "op": "removerange"
          }
         ],
         "key": "start_time",
         "op": "patch"
        }
       ],
       "key": "ExecuteTime",
       "op": "patch"
      }
     ]
    }
   },
   "outputs": [],
   "source": [
    "!pip install pareto"
   ]
  },
  {
   "cell_type": "code",
   "execution_count": null,
   "metadata": {
    "ExecuteTime": {
     "end_time": "2022-10-04T11:39:38.483161Z",
     "start_time": "2022-10-04T11:39:38.346910Z"
    },
    "nbdime-conflicts": {
     "local_diff": [
      {
       "diff": [
        {
         "diff": [
          {
           "key": 0,
           "op": "addrange",
           "valuelist": [
            "2022-10-03T20:39:19.973490Z"
           ]
          },
          {
           "key": 0,
           "length": 1,
           "op": "removerange"
          }
         ],
         "key": "end_time",
         "op": "patch"
        },
        {
         "diff": [
          {
           "key": 0,
           "op": "addrange",
           "valuelist": [
            "2022-10-03T20:39:19.840503Z"
           ]
          },
          {
           "key": 0,
           "length": 1,
           "op": "removerange"
          }
         ],
         "key": "start_time",
         "op": "patch"
        }
       ],
       "key": "ExecuteTime",
       "op": "patch"
      }
     ],
     "remote_diff": [
      {
       "diff": [
        {
         "diff": [
          {
           "key": 0,
           "op": "addrange",
           "valuelist": [
            "2022-05-30T08:24:36.883583Z"
           ]
          },
          {
           "key": 0,
           "length": 1,
           "op": "removerange"
          }
         ],
         "key": "end_time",
         "op": "patch"
        },
        {
         "diff": [
          {
           "key": 0,
           "op": "addrange",
           "valuelist": [
            "2022-05-30T08:24:36.750226Z"
           ]
          },
          {
           "key": 0,
           "length": 1,
           "op": "removerange"
          }
         ],
         "key": "start_time",
         "op": "patch"
        }
       ],
       "key": "ExecuteTime",
       "op": "patch"
      }
     ]
    }
   },
   "outputs": [],
   "source": [
    "import pandas as pd\n",
    "import matplotlib.pyplot as plt\n",
    "import matplotlib.colors as colors\n",
    "import numpy as np\n",
    "import pareto\n",
    "import math"
   ]
  },
  {
   "cell_type": "code",
   "execution_count": null,
   "metadata": {
    "ExecuteTime": {
     "end_time": "2022-10-04T11:39:38.488031Z",
     "start_time": "2022-10-04T11:39:38.485614Z"
    }
   },
   "outputs": [],
   "source": [
    "dataset = 'anime' # 'ml100k', 'ml1m', 'ft', 'anime'"
   ]
  },
  {
   "cell_type": "markdown",
   "metadata": {},
   "source": [
    "## Frente de pareto"
   ]
  },
  {
   "cell_type": "markdown",
   "metadata": {},
   "source": [
    "Load GridSearch results:"
   ]
  },
  {
   "cell_type": "code",
   "execution_count": null,
   "metadata": {
    "ExecuteTime": {
     "end_time": "2022-10-04T11:39:38.515578Z",
     "start_time": "2022-10-04T11:39:38.489622Z"
    }
   },
   "outputs": [],
   "source": [
    "df = {}\n",
    "for m in ['ResBeMF', 'BeMF', 'DirMF', 'PMF', 'MLP']:\n",
    "    aux = pd.read_csv('results/gridsearch/' + dataset + '/' + m.lower() +'.csv')\n",
    "    aux = aux[aux['cummulativemae_avg'] >= 0.05]\n",
    "    aux = aux[aux['cummulativecoverage_avg'] >= 0.05]\n",
    "    df[m] = aux"
   ]
  },
  {
   "cell_type": "markdown",
   "metadata": {},
   "source": [
    "Plot the scatter:"
   ]
  },
  {
   "cell_type": "code",
   "execution_count": null,
   "metadata": {
    "ExecuteTime": {
     "end_time": "2022-10-04T11:39:44.902031Z",
     "start_time": "2022-10-04T11:39:38.517536Z"
    },
    "nbdime-conflicts": {
     "local_diff": [
      {
       "diff": [
        {
         "diff": [
          {
           "key": 0,
           "op": "addrange",
           "valuelist": [
            "2022-10-03T20:39:26.377297Z"
           ]
          },
          {
           "key": 0,
           "length": 1,
           "op": "removerange"
          }
         ],
         "key": "end_time",
         "op": "patch"
        },
        {
         "diff": [
          {
           "key": 0,
           "op": "addrange",
           "valuelist": [
            "2022-10-03T20:39:20.020083Z"
           ]
          },
          {
           "key": 0,
           "length": 1,
           "op": "removerange"
          }
         ],
         "key": "start_time",
         "op": "patch"
        }
       ],
       "key": "ExecuteTime",
       "op": "patch"
      }
     ],
     "remote_diff": [
      {
       "diff": [
        {
         "diff": [
          {
           "key": 0,
           "op": "addrange",
           "valuelist": [
            "2022-05-30T08:24:43.501400Z"
           ]
          },
          {
           "key": 0,
           "length": 1,
           "op": "removerange"
          }
         ],
         "key": "end_time",
         "op": "patch"
        },
        {
         "diff": [
          {
           "key": 0,
           "op": "addrange",
           "valuelist": [
            "2022-05-30T08:24:36.920051Z"
           ]
          },
          {
           "key": 0,
           "length": 1,
           "op": "removerange"
          }
         ],
         "key": "start_time",
         "op": "patch"
        }
       ],
       "key": "ExecuteTime",
       "op": "patch"
      }
     ]
    }
   },
   "outputs": [],
   "source": [
    "params = ['numFactors', 'regularization', 'learningRate', 'numIters']\n",
    "methods = ['ResBeMF', 'BeMF', 'DirMF']\n",
    "cmaps = ['Blues', 'Oranges', 'Greens']\n",
    "\n",
    "fig, axs = plt.subplots(len(params), len(methods), figsize=(6*len(methods),3.75*len(params)))\n",
    "fig.tight_layout(h_pad=4, w_pad=6.5)\n",
    "\n",
    "for i, param in enumerate(params):\n",
    "    for j, method in enumerate(methods):\n",
    "        \n",
    "        axs[i,j].set_xlabel('coverage', fontsize=17)\n",
    "        axs[i,j].set_ylabel('1-mae', fontsize=17)\n",
    "        \n",
    "        if i == 0:\n",
    "            axs[i,j].set_title(method, fontsize=20)\n",
    "            \n",
    "        axs[i,j].tick_params(axis='both', which='major', labelsize=14)\n",
    "            \n",
    "        mae = df[method]['cummulativemae_avg']\n",
    "        coverage = df[method]['cummulativecoverage_avg']\n",
    "        color = df[method][param] \n",
    "                    \n",
    "        norm = colors.LogNorm(vmin=color.min(), vmax=color.max()) if param == 'regularization' and (method == 'BeMF' or (method == 'ResBeMF' and dataset == 'anime')) else None\n",
    "        \n",
    "        im = axs[i,j].scatter(coverage, mae, c=color, cmap=cmaps[j], norm=norm)\n",
    "        \n",
    "        cbar = plt.colorbar(im, ax=axs[i,j])\n",
    "        cbar.set_label(param, fontsize=15)\n",
    "        cbar.ax.tick_params(labelsize=14)\n",
    "        \n",
    "plt.savefig('./figs/' + dataset + '-hyperparameters.png', dpi=300, bbox_inches='tight')"
   ]
  },
  {
   "cell_type": "markdown",
   "metadata": {},
   "source": [
    "Plot the pareto fronts:"
   ]
  },
  {
   "cell_type": "code",
   "execution_count": null,
   "metadata": {
    "ExecuteTime": {
     "end_time": "2022-10-04T11:39:44.907842Z",
     "start_time": "2022-10-04T11:39:44.903821Z"
    },
    "nbdime-conflicts": {
     "local_diff": [
      {
       "diff": [
        {
         "diff": [
          {
           "key": 0,
           "op": "addrange",
           "valuelist": [
            "2022-10-03T20:39:26.383052Z"
           ]
          },
          {
           "key": 0,
           "length": 1,
           "op": "removerange"
          }
         ],
         "key": "end_time",
         "op": "patch"
        },
        {
         "diff": [
          {
           "key": 0,
           "op": "addrange",
           "valuelist": [
            "2022-10-03T20:39:26.378995Z"
           ]
          },
          {
           "key": 0,
           "length": 1,
           "op": "removerange"
          }
         ],
         "key": "start_time",
         "op": "patch"
        }
       ],
       "key": "ExecuteTime",
       "op": "patch"
      }
     ],
     "remote_diff": [
      {
       "diff": [
        {
         "diff": [
          {
           "key": 0,
           "op": "addrange",
           "valuelist": [
            "2022-05-30T08:24:43.507315Z"
           ]
          },
          {
           "key": 0,
           "length": 1,
           "op": "removerange"
          }
         ],
         "key": "end_time",
         "op": "patch"
        },
        {
         "diff": [
          {
           "key": 0,
           "op": "addrange",
           "valuelist": [
            "2022-05-30T08:24:43.503139Z"
           ]
          },
          {
           "key": 0,
           "length": 1,
           "op": "removerange"
          }
         ],
         "key": "start_time",
         "op": "patch"
        }
       ],
       "key": "ExecuteTime",
       "op": "patch"
      }
     ]
    }
   },
   "outputs": [],
   "source": [
    "def get_pareto_front(df):\n",
    "    objectives = [df.columns.get_loc(c) for c in ['cummulativemae_avg', 'cummulativecoverage_avg'] if c in df]\n",
    "    nondominated = pareto.eps_sort([list(df.itertuples(False))], objectives, maximize_all=True)\n",
    "    pareto_front = pd.DataFrame.from_records(nondominated, columns=list(df.columns.values))\n",
    "    s = sorted(zip(pareto_front['cummulativecoverage_avg'], pareto_front['cummulativemae_avg']))\n",
    "    cov, mae = [list(tuple) for tuple in zip(*s)]\n",
    "    return cov, mae"
   ]
  },
  {
   "cell_type": "code",
   "execution_count": null,
   "metadata": {
    "ExecuteTime": {
     "end_time": "2022-10-04T11:39:45.407115Z",
     "start_time": "2022-10-04T11:39:44.910006Z"
    },
    "nbdime-conflicts": {
     "local_diff": [
      {
       "diff": [
        {
         "diff": [
          {
           "key": 0,
           "op": "addrange",
           "valuelist": [
            "2022-10-03T20:39:26.880882Z"
           ]
          },
          {
           "key": 0,
           "length": 1,
           "op": "removerange"
          }
         ],
         "key": "end_time",
         "op": "patch"
        },
        {
         "diff": [
          {
           "key": 0,
           "op": "addrange",
           "valuelist": [
            "2022-10-03T20:39:26.385207Z"
           ]
          },
          {
           "key": 0,
           "length": 1,
           "op": "removerange"
          }
         ],
         "key": "start_time",
         "op": "patch"
        }
       ],
       "key": "ExecuteTime",
       "op": "patch"
      }
     ],
     "remote_diff": [
      {
       "diff": [
        {
         "diff": [
          {
           "key": 0,
           "op": "addrange",
           "valuelist": [
            "2022-05-30T08:24:44.036412Z"
           ]
          },
          {
           "key": 0,
           "length": 1,
           "op": "removerange"
          }
         ],
         "key": "end_time",
         "op": "patch"
        },
        {
         "diff": [
          {
           "key": 0,
           "op": "addrange",
           "valuelist": [
            "2022-05-30T08:24:43.509528Z"
           ]
          },
          {
           "key": 0,
           "length": 1,
           "op": "removerange"
          }
         ],
         "key": "start_time",
         "op": "patch"
        }
       ],
       "key": "ExecuteTime",
       "op": "patch"
      }
     ]
    }
   },
   "outputs": [],
   "source": [
    "resbemf_coverage, resbemf_mae = get_pareto_front(df['ResBeMF'])\n",
    "plt.plot(resbemf_coverage, resbemf_mae, label='ResBeMF')\n",
    "\n",
    "bemf_coverage, bemf_mae = get_pareto_front(df['BeMF'])\n",
    "plt.plot(bemf_coverage, bemf_mae, label='BeMF')\n",
    "\n",
    "dirmf_coverage, dirmf_mae = get_pareto_front(df['DirMF'])\n",
    "plt.plot(dirmf_coverage, dirmf_mae, label='DirMF')\n",
    "\n",
    "pmf_coverage, pmf_mae = get_pareto_front(df['PMF'])\n",
    "plt.scatter(pmf_coverage, pmf_mae, label='PMF', c='red', marker='+')\n",
    "\n",
    "mlp_coverage, mlp_mae = get_pareto_front(df['MLP'])\n",
    "plt.scatter(mlp_coverage, mlp_mae, label='MLP', c='purple', marker='+')\n",
    "\n",
    "plt.xlabel('coverage', fontsize=17)\n",
    "plt.xticks(fontsize=14)\n",
    "\n",
    "plt.ylabel('1-mae', fontsize=17)\n",
    "plt.yticks(fontsize=14)\n",
    "    \n",
    "plt.legend(fontsize=14, loc=(1.04, 0.5))\n",
    "\n",
    "plt.savefig('./figs/' + dataset + '-pareto-front.png', dpi=300, bbox_inches='tight')"
   ]
  },
  {
   "cell_type": "markdown",
   "metadata": {},
   "source": [
    "## Test split error"
   ]
  },
  {
   "cell_type": "markdown",
   "metadata": {},
   "source": [
    "Load test split results:"
   ]
  },
  {
   "cell_type": "code",
   "execution_count": null,
   "metadata": {
    "ExecuteTime": {
     "end_time": "2022-10-04T11:39:45.437579Z",
     "start_time": "2022-10-04T11:39:45.408781Z"
    },
    "nbdime-conflicts": {
     "local_diff": [
      {
       "diff": [
        {
         "diff": [
          {
           "key": 0,
           "op": "addrange",
           "valuelist": [
            "2022-10-03T20:39:26.911235Z"
           ]
          },
          {
           "key": 0,
           "length": 1,
           "op": "removerange"
          }
         ],
         "key": "end_time",
         "op": "patch"
        },
        {
         "diff": [
          {
           "key": 0,
           "op": "addrange",
           "valuelist": [
            "2022-10-03T20:39:26.882581Z"
           ]
          },
          {
           "key": 0,
           "length": 1,
           "op": "removerange"
          }
         ],
         "key": "start_time",
         "op": "patch"
        }
       ],
       "key": "ExecuteTime",
       "op": "patch"
      }
     ],
     "remote_diff": [
      {
       "diff": [
        {
         "diff": [
          {
           "key": 0,
           "op": "addrange",
           "valuelist": [
            "2022-05-30T08:24:44.070476Z"
           ]
          },
          {
           "key": 0,
           "length": 1,
           "op": "removerange"
          }
         ],
         "key": "end_time",
         "op": "patch"
        },
        {
         "diff": [
          {
           "key": 0,
           "op": "addrange",
           "valuelist": [
            "2022-05-30T08:24:44.038103Z"
           ]
          },
          {
           "key": 0,
           "length": 1,
           "op": "removerange"
          }
         ],
         "key": "start_time",
         "op": "patch"
        }
       ],
       "key": "ExecuteTime",
       "op": "patch"
      }
     ]
    }
   },
   "outputs": [],
   "source": [
    "mae_df = pd.read_csv('results/test-split/' + dataset + '/mae.csv')\n",
    "mae_df"
   ]
  },
  {
   "cell_type": "code",
   "execution_count": null,
   "metadata": {
    "ExecuteTime": {
     "end_time": "2022-10-04T11:39:45.465684Z",
     "start_time": "2022-10-04T11:39:45.439053Z"
    },
    "nbdime-conflicts": {
     "local_diff": [
      {
       "diff": [
        {
         "diff": [
          {
           "key": 0,
           "op": "addrange",
           "valuelist": [
            "2022-10-03T20:39:26.939181Z"
           ]
          },
          {
           "key": 0,
           "length": 1,
           "op": "removerange"
          }
         ],
         "key": "end_time",
         "op": "patch"
        },
        {
         "diff": [
          {
           "key": 0,
           "op": "addrange",
           "valuelist": [
            "2022-10-03T20:39:26.912704Z"
           ]
          },
          {
           "key": 0,
           "length": 1,
           "op": "removerange"
          }
         ],
         "key": "start_time",
         "op": "patch"
        }
       ],
       "key": "ExecuteTime",
       "op": "patch"
      }
     ],
     "remote_diff": [
      {
       "diff": [
        {
         "diff": [
          {
           "key": 0,
           "op": "addrange",
           "valuelist": [
            "2022-05-30T08:24:44.104187Z"
           ]
          },
          {
           "key": 0,
           "length": 1,
           "op": "removerange"
          }
         ],
         "key": "end_time",
         "op": "patch"
        },
        {
         "diff": [
          {
           "key": 0,
           "op": "addrange",
           "valuelist": [
            "2022-05-30T08:24:44.071928Z"
           ]
          },
          {
           "key": 0,
           "length": 1,
           "op": "removerange"
          }
         ],
         "key": "start_time",
         "op": "patch"
        }
       ],
       "key": "ExecuteTime",
       "op": "patch"
      }
     ]
    },
    "scrolled": true
   },
   "outputs": [],
   "source": [
    "coverage_df = pd.read_csv('results/test-split/' + dataset + '/coverage.csv')\n",
    "coverage_df"
   ]
  },
  {
   "cell_type": "markdown",
   "metadata": {},
   "source": [
    "Remove mae values computed with a coverage less than 0.01:"
   ]
  },
  {
   "cell_type": "code",
   "execution_count": null,
   "metadata": {
    "ExecuteTime": {
     "end_time": "2022-10-04T11:39:45.554887Z",
     "start_time": "2022-10-04T11:39:45.467157Z"
    },
    "nbdime-conflicts": {
     "local_diff": [
      {
       "diff": [
        {
         "diff": [
          {
           "key": 0,
           "op": "addrange",
           "valuelist": [
            "2022-10-03T20:39:27.027313Z"
           ]
          },
          {
           "key": 0,
           "length": 1,
           "op": "removerange"
          }
         ],
         "key": "end_time",
         "op": "patch"
        },
        {
         "diff": [
          {
           "key": 0,
           "op": "addrange",
           "valuelist": [
            "2022-10-03T20:39:26.940611Z"
           ]
          },
          {
           "key": 0,
           "length": 1,
           "op": "removerange"
          }
         ],
         "key": "start_time",
         "op": "patch"
        }
       ],
       "key": "ExecuteTime",
       "op": "patch"
      }
     ],
     "remote_diff": [
      {
       "diff": [
        {
         "diff": [
          {
           "key": 0,
           "op": "addrange",
           "valuelist": [
            "2022-05-30T08:24:44.225694Z"
           ]
          },
          {
           "key": 0,
           "length": 1,
           "op": "removerange"
          }
         ],
         "key": "end_time",
         "op": "patch"
        },
        {
         "diff": [
          {
           "key": 0,
           "op": "addrange",
           "valuelist": [
            "2022-05-30T08:24:44.105668Z"
           ]
          },
          {
           "key": 0,
           "length": 1,
           "op": "removerange"
          }
         ],
         "key": "start_time",
         "op": "patch"
        }
       ],
       "key": "ExecuteTime",
       "op": "patch"
      }
     ]
    }
   },
   "outputs": [],
   "source": [
    "for c in mae_df.columns.tolist()[1:]:\n",
    "    for i in range(mae_df['reliability'].size):\n",
    "        if coverage_df[c][i] <= 0.01:\n",
    "            mae_df[c][i] = math.nan"
   ]
  },
  {
   "cell_type": "markdown",
   "metadata": {},
   "source": [
    "Compute aveage error and its std:"
   ]
  },
  {
   "cell_type": "code",
   "execution_count": null,
   "metadata": {
    "ExecuteTime": {
     "end_time": "2022-10-04T11:39:45.566500Z",
     "start_time": "2022-10-04T11:39:45.556554Z"
    }
   },
   "outputs": [],
   "source": [
    "for method in [\"ResBeMF\", \"BeMF\", \"DirMF\"]:\n",
    "    mae_df[method + \"_mean\"] = mae_df.loc[:, mae_df.columns.str.startswith(method)].mean(axis=1)\n",
    "    mae_df[method + \"_std\"] = mae_df.loc[:, mae_df.columns.str.startswith(method)].std(axis=1)"
   ]
  },
  {
   "cell_type": "code",
   "execution_count": null,
   "metadata": {
    "ExecuteTime": {
     "end_time": "2022-10-04T11:39:45.578240Z",
     "start_time": "2022-10-04T11:39:45.568121Z"
    }
   },
   "outputs": [],
   "source": [
    "for method in [\"ResBeMF\", \"BeMF\", \"DirMF\"]:\n",
    "    coverage_df[method + \"_mean\"] = coverage_df.loc[:, coverage_df.columns.str.startswith(method)].mean(axis=1)\n",
    "    coverage_df[method + \"_std\"] = coverage_df.loc[:, coverage_df.columns.str.startswith(method)].std(axis=1)"
   ]
  },
  {
   "cell_type": "markdown",
   "metadata": {},
   "source": [
    "Plot the figure:"
   ]
  },
  {
   "cell_type": "code",
   "execution_count": null,
   "metadata": {
    "ExecuteTime": {
     "end_time": "2022-10-04T11:39:46.805000Z",
     "start_time": "2022-10-04T11:39:45.579645Z"
    },
    "nbdime-conflicts": {
     "local_diff": [
      {
       "diff": [
        {
         "diff": [
          {
           "key": 0,
           "op": "addrange",
           "valuelist": [
            "2022-10-03T20:39:28.263100Z"
           ]
          },
          {
           "key": 0,
           "length": 1,
           "op": "removerange"
          }
         ],
         "key": "end_time",
         "op": "patch"
        },
        {
         "diff": [
          {
           "key": 0,
           "op": "addrange",
           "valuelist": [
            "2022-10-03T20:39:27.052641Z"
           ]
          },
          {
           "key": 0,
           "length": 1,
           "op": "removerange"
          }
         ],
         "key": "start_time",
         "op": "patch"
        }
       ],
       "key": "ExecuteTime",
       "op": "patch"
      }
     ],
     "remote_diff": [
      {
       "diff": [
        {
         "diff": [
          {
           "key": 0,
           "op": "addrange",
           "valuelist": [
            "2022-05-30T10:53:02.354186Z"
           ]
          },
          {
           "key": 0,
           "length": 1,
           "op": "removerange"
          }
         ],
         "key": "end_time",
         "op": "patch"
        },
        {
         "diff": [
          {
           "key": 0,
           "op": "addrange",
           "valuelist": [
            "2022-05-30T10:53:01.119814Z"
           ]
          },
          {
           "key": 0,
           "length": 1,
           "op": "removerange"
          }
         ],
         "key": "start_time",
         "op": "patch"
        }
       ],
       "key": "ExecuteTime",
       "op": "patch"
      }
     ]
    }
   },
   "outputs": [],
   "source": [
    "fig, axs = plt.subplots(1, 2, figsize=(14,7))\n",
    "\n",
    "def plot_axis(df, name, ax):\n",
    "    ax.set_xlabel(r'reliability threshold ($\\theta$)', fontsize=17)\n",
    "    ax.set_ylabel(name, fontsize=17)\n",
    "\n",
    "    ax.tick_params(axis='both', which='major', labelsize=14)\n",
    "\n",
    "    ax.fill_between(df['reliability'], df['ResBeMF_mean'] + df['ResBeMF_std'], df['ResBeMF_mean'] - df['ResBeMF_std'], color='blue', alpha=0.1)\n",
    "    ax.plot(df['reliability'], df['ResBeMF_mean'], c='blue', label='ResBeMF')\n",
    "\n",
    "    ax.fill_between(df['reliability'], df['BeMF_mean'] + df['BeMF_std'], df['BeMF_mean'] - df['BeMF_std'], color='orange', alpha=0.1)\n",
    "    ax.plot(df['reliability'], df['BeMF_mean'], c='orange', label='BeMF')\n",
    "\n",
    "    ax.fill_between(df['reliability'], df['DirMF_mean'] + df['DirMF_std'], df['DirMF_mean'] - df['DirMF_std'], color='green', alpha=0.1)\n",
    "    ax.plot(df['reliability'], df['DirMF_mean'], c='green', label='DirMF')\n",
    "    \n",
    "    ax.plot(df['reliability'], df['PMF'], c='red', label='PMF')\n",
    "\n",
    "    ax.plot(df['reliability'], df['MLP'], c='purple', label='MLP')\n",
    "\n",
    "    ax.legend(fontsize=14)\n",
    "    \n",
    "plot_axis(mae_df, '$1-mae^θ$', axs[0])\n",
    "plot_axis(coverage_df, '$coverage^θ$', axs[1])\n",
    "\n",
    "plt.savefig('./figs/' + dataset + '-test-error.png', dpi=300, bbox_inches='tight')"
   ]
  }
 ],
 "metadata": {
  "kernelspec": {
   "display_name": "Python 3",
   "language": "python",
   "name": "python3"
  },
  "language_info": {
   "codemirror_mode": {
    "name": "ipython",
    "version": 3
   },
   "file_extension": ".py",
   "mimetype": "text/x-python",
   "name": "python",
   "nbconvert_exporter": "python",
   "pygments_lexer": "ipython3",
   "version": "3.8.5"
  },
  "toc": {
   "base_numbering": 1,
   "nav_menu": {},
   "number_sections": false,
   "sideBar": true,
   "skip_h1_title": false,
   "title_cell": "Table of Contents",
   "title_sidebar": "Contents",
   "toc_cell": false,
   "toc_position": {},
   "toc_section_display": true,
   "toc_window_display": false
  }
 },
 "nbformat": 4,
 "nbformat_minor": 4
}
