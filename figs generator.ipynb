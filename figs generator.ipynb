{
 "cells": [
  {
   "cell_type": "code",
   "execution_count": null,
   "metadata": {
    "ExecuteTime": {
     "end_time": "2023-11-30T14:54:36.167372Z",
     "start_time": "2023-11-30T14:54:31.724977Z"
    },
    "nbdime-conflicts": {
     "local_diff": [
      {
       "diff": [
        {
         "diff": [
          {
           "key": 0,
           "op": "addrange",
           "valuelist": [
            "2022-10-03T20:39:19.835653Z"
           ]
          },
          {
           "key": 0,
           "length": 1,
           "op": "removerange"
          }
         ],
         "key": "end_time",
         "op": "patch"
        },
        {
         "diff": [
          {
           "key": 0,
           "op": "addrange",
           "valuelist": [
            "2022-10-03T20:39:15.238861Z"
           ]
          },
          {
           "key": 0,
           "length": 1,
           "op": "removerange"
          }
         ],
         "key": "start_time",
         "op": "patch"
        }
       ],
       "key": "ExecuteTime",
       "op": "patch"
      }
     ],
     "remote_diff": [
      {
       "diff": [
        {
         "diff": [
          {
           "key": 0,
           "op": "addrange",
           "valuelist": [
            "2022-05-30T08:24:36.745102Z"
           ]
          },
          {
           "key": 0,
           "length": 1,
           "op": "removerange"
          }
         ],
         "key": "end_time",
         "op": "patch"
        },
        {
         "diff": [
          {
           "key": 0,
           "op": "addrange",
           "valuelist": [
            "2022-05-30T08:24:32.065231Z"
           ]
          },
          {
           "key": 0,
           "length": 1,
           "op": "removerange"
          }
         ],
         "key": "start_time",
         "op": "patch"
        }
       ],
       "key": "ExecuteTime",
       "op": "patch"
      }
     ]
    }
   },
   "outputs": [],
   "source": [
    "!pip install pareto"
   ]
  },
  {
   "cell_type": "code",
   "execution_count": null,
   "metadata": {
    "ExecuteTime": {
     "end_time": "2023-11-30T14:54:36.553029Z",
     "start_time": "2023-11-30T14:54:36.173683Z"
    },
    "nbdime-conflicts": {
     "local_diff": [
      {
       "diff": [
        {
         "diff": [
          {
           "key": 0,
           "op": "addrange",
           "valuelist": [
            "2022-10-03T20:39:19.973490Z"
           ]
          },
          {
           "key": 0,
           "length": 1,
           "op": "removerange"
          }
         ],
         "key": "end_time",
         "op": "patch"
        },
        {
         "diff": [
          {
           "key": 0,
           "op": "addrange",
           "valuelist": [
            "2022-10-03T20:39:19.840503Z"
           ]
          },
          {
           "key": 0,
           "length": 1,
           "op": "removerange"
          }
         ],
         "key": "start_time",
         "op": "patch"
        }
       ],
       "key": "ExecuteTime",
       "op": "patch"
      }
     ],
     "remote_diff": [
      {
       "diff": [
        {
         "diff": [
          {
           "key": 0,
           "op": "addrange",
           "valuelist": [
            "2022-05-30T08:24:36.883583Z"
           ]
          },
          {
           "key": 0,
           "length": 1,
           "op": "removerange"
          }
         ],
         "key": "end_time",
         "op": "patch"
        },
        {
         "diff": [
          {
           "key": 0,
           "op": "addrange",
           "valuelist": [
            "2022-05-30T08:24:36.750226Z"
           ]
          },
          {
           "key": 0,
           "length": 1,
           "op": "removerange"
          }
         ],
         "key": "start_time",
         "op": "patch"
        }
       ],
       "key": "ExecuteTime",
       "op": "patch"
      }
     ]
    }
   },
   "outputs": [],
   "source": [
    "import pandas as pd\n",
    "import matplotlib.pyplot as plt\n",
    "import matplotlib.colors as colors\n",
    "import numpy as np\n",
    "import pareto\n",
    "import math\n",
    "import scipy.stats as st"
   ]
  },
  {
   "cell_type": "markdown",
   "metadata": {},
   "source": [
    "## Frente de pareto"
   ]
  },
  {
   "cell_type": "markdown",
   "metadata": {},
   "source": [
    "Load GridSearch results:"
   ]
  },
  {
   "cell_type": "code",
   "execution_count": null,
   "metadata": {
    "ExecuteTime": {
     "end_time": "2023-11-30T14:54:36.635656Z",
     "start_time": "2023-11-30T14:54:36.555101Z"
    }
   },
   "outputs": [],
   "source": [
    "dfs = {}\n",
    "for dataset in ['ml100k', 'ml1m', 'ft', 'anime']:\n",
    "    df = {}\n",
    "    for m in ['ResBeMF', 'BeMF', 'DirMF', 'PMF', 'MLP']:\n",
    "        aux = pd.read_csv('results/gridsearch/' + dataset + '/' + m.lower() +'.csv')\n",
    "        aux = aux[aux['cummulativemae_avg'] >= 0.05]\n",
    "        aux = aux[aux['cummulativecoverage_avg'] >= 0.05]\n",
    "        df[m] = aux\n",
    "    dfs[dataset] = df"
   ]
  },
  {
   "cell_type": "markdown",
   "metadata": {},
   "source": [
    "Plot the scatter:"
   ]
  },
  {
   "cell_type": "code",
   "execution_count": null,
   "metadata": {
    "ExecuteTime": {
     "end_time": "2023-11-30T14:54:36.644136Z",
     "start_time": "2023-11-30T14:54:36.637358Z"
    },
    "nbdime-conflicts": {
     "local_diff": [
      {
       "diff": [
        {
         "diff": [
          {
           "key": 0,
           "op": "addrange",
           "valuelist": [
            "2022-10-03T20:39:26.377297Z"
           ]
          },
          {
           "key": 0,
           "length": 1,
           "op": "removerange"
          }
         ],
         "key": "end_time",
         "op": "patch"
        },
        {
         "diff": [
          {
           "key": 0,
           "op": "addrange",
           "valuelist": [
            "2022-10-03T20:39:20.020083Z"
           ]
          },
          {
           "key": 0,
           "length": 1,
           "op": "removerange"
          }
         ],
         "key": "start_time",
         "op": "patch"
        }
       ],
       "key": "ExecuteTime",
       "op": "patch"
      }
     ],
     "remote_diff": [
      {
       "diff": [
        {
         "diff": [
          {
           "key": 0,
           "op": "addrange",
           "valuelist": [
            "2022-05-30T08:24:43.501400Z"
           ]
          },
          {
           "key": 0,
           "length": 1,
           "op": "removerange"
          }
         ],
         "key": "end_time",
         "op": "patch"
        },
        {
         "diff": [
          {
           "key": 0,
           "op": "addrange",
           "valuelist": [
            "2022-05-30T08:24:36.920051Z"
           ]
          },
          {
           "key": 0,
           "length": 1,
           "op": "removerange"
          }
         ],
         "key": "start_time",
         "op": "patch"
        }
       ],
       "key": "ExecuteTime",
       "op": "patch"
      }
     ]
    }
   },
   "outputs": [],
   "source": [
    "def plot_hypeparameters(df):\n",
    "    params = ['numFactors', 'regularization', 'learningRate', 'numIters']\n",
    "    methods = ['ResBeMF', 'BeMF', 'DirMF']\n",
    "    cmaps = ['Blues', 'Oranges', 'Greens']\n",
    "\n",
    "    fig, axs = plt.subplots(len(params), len(methods), figsize=(6*len(methods),3.75*len(params)))\n",
    "    fig.tight_layout(h_pad=4, w_pad=6.5)\n",
    "\n",
    "    for i, param in enumerate(params):\n",
    "        for j, method in enumerate(methods):\n",
    "\n",
    "            axs[i,j].set_xlabel('coverage', fontsize=17)\n",
    "            axs[i,j].set_ylabel('1-mae', fontsize=17)\n",
    "\n",
    "            if i == 0:\n",
    "                axs[i,j].set_title(method, fontsize=20)\n",
    "\n",
    "            axs[i,j].tick_params(axis='both', which='major', labelsize=14)\n",
    "\n",
    "            mae = df[method]['cummulativemae_avg']\n",
    "            coverage = df[method]['cummulativecoverage_avg']\n",
    "            color = df[method][param] \n",
    "\n",
    "            norm = colors.LogNorm(vmin=color.min(), vmax=color.max()) if param == 'regularization' and (method == 'BeMF' or (method == 'ResBeMF' and dataset == 'anime')) else None\n",
    "\n",
    "            im = axs[i,j].scatter(coverage, mae, c=color, cmap=cmaps[j], norm=norm)\n",
    "\n",
    "            cbar = plt.colorbar(im, ax=axs[i,j])\n",
    "            cbar.set_label(param, fontsize=15)\n",
    "            cbar.ax.tick_params(labelsize=14)\n",
    "\n",
    "    plt.savefig('./figs/' + dataset + '-hyperparameters.png', dpi=300, bbox_inches='tight')"
   ]
  },
  {
   "cell_type": "code",
   "execution_count": null,
   "metadata": {
    "ExecuteTime": {
     "end_time": "2023-11-30T14:54:42.424605Z",
     "start_time": "2023-11-30T14:54:36.645546Z"
    }
   },
   "outputs": [],
   "source": [
    "plot_hypeparameters(dfs['ml100k'])"
   ]
  },
  {
   "cell_type": "code",
   "execution_count": null,
   "metadata": {
    "ExecuteTime": {
     "end_time": "2023-11-30T14:54:47.815937Z",
     "start_time": "2023-11-30T14:54:42.426330Z"
    }
   },
   "outputs": [],
   "source": [
    "plot_hypeparameters(dfs['ml1m'])"
   ]
  },
  {
   "cell_type": "code",
   "execution_count": null,
   "metadata": {
    "ExecuteTime": {
     "end_time": "2023-11-30T14:54:53.440718Z",
     "start_time": "2023-11-30T14:54:47.817823Z"
    }
   },
   "outputs": [],
   "source": [
    "plot_hypeparameters(dfs['ml100k'])"
   ]
  },
  {
   "cell_type": "markdown",
   "metadata": {},
   "source": [
    "Plot the pareto fronts:"
   ]
  },
  {
   "cell_type": "code",
   "execution_count": null,
   "metadata": {
    "ExecuteTime": {
     "end_time": "2023-11-30T14:54:54.787580Z",
     "start_time": "2023-11-30T14:54:53.443044Z"
    },
    "nbdime-conflicts": {
     "local_diff": [
      {
       "diff": [
        {
         "diff": [
          {
           "key": 0,
           "op": "addrange",
           "valuelist": [
            "2022-10-03T20:39:26.383052Z"
           ]
          },
          {
           "key": 0,
           "length": 1,
           "op": "removerange"
          }
         ],
         "key": "end_time",
         "op": "patch"
        },
        {
         "diff": [
          {
           "key": 0,
           "op": "addrange",
           "valuelist": [
            "2022-10-03T20:39:26.378995Z"
           ]
          },
          {
           "key": 0,
           "length": 1,
           "op": "removerange"
          }
         ],
         "key": "start_time",
         "op": "patch"
        }
       ],
       "key": "ExecuteTime",
       "op": "patch"
      }
     ],
     "remote_diff": [
      {
       "diff": [
        {
         "diff": [
          {
           "key": 0,
           "op": "addrange",
           "valuelist": [
            "2022-05-30T08:24:43.507315Z"
           ]
          },
          {
           "key": 0,
           "length": 1,
           "op": "removerange"
          }
         ],
         "key": "end_time",
         "op": "patch"
        },
        {
         "diff": [
          {
           "key": 0,
           "op": "addrange",
           "valuelist": [
            "2022-05-30T08:24:43.503139Z"
           ]
          },
          {
           "key": 0,
           "length": 1,
           "op": "removerange"
          }
         ],
         "key": "start_time",
         "op": "patch"
        }
       ],
       "key": "ExecuteTime",
       "op": "patch"
      }
     ]
    }
   },
   "outputs": [],
   "source": [
    "def get_pareto_front(df):\n",
    "    objectives = [df.columns.get_loc(c) for c in ['cummulativemae_avg', 'cummulativecoverage_avg'] if c in df]\n",
    "    nondominated = pareto.eps_sort([list(df.itertuples(False))], objectives, maximize_all=True)\n",
    "    pareto_front = pd.DataFrame.from_records(nondominated, columns=list(df.columns.values))\n",
    "    s = sorted(zip(pareto_front['cummulativecoverage_avg'], pareto_front['cummulativemae_avg']))\n",
    "    cov, mae = [list(tuple) for tuple in zip(*s)]\n",
    "    return cov, mae\n",
    "\n",
    "def plot_pareto_front(df, title, ax):\n",
    "    resbemf_coverage, resbemf_mae = get_pareto_front(df['ResBeMF'])\n",
    "    resbemf_line, = ax.plot(resbemf_coverage, resbemf_mae, label='ResBeMF')\n",
    "\n",
    "    bemf_coverage, bemf_mae = get_pareto_front(df['BeMF'])\n",
    "    bemf_line, = ax.plot(bemf_coverage, bemf_mae, label='BeMF')\n",
    "\n",
    "    dirmf_coverage, dirmf_mae = get_pareto_front(df['DirMF'])\n",
    "    dirmf_line, = ax.plot(dirmf_coverage, dirmf_mae, label='DirMF')\n",
    "\n",
    "    ax.set_xlabel('coverage', fontsize=17)\n",
    "    ax.set_ylabel('1-mae', fontsize=17)\n",
    "    ax.set_title(title, fontsize=20)\n",
    "    \n",
    "    ax.tick_params(axis='both', which='major', labelsize=14)\n",
    "    \n",
    "    return [resbemf_line, bemf_line, dirmf_line]\n",
    "\n",
    "fig, axs = plt.subplots(1, 4, figsize=(18 ,3.75))\n",
    "fig.tight_layout(h_pad=4, w_pad=6.5)\n",
    "\n",
    "lines = plot_pareto_front(dfs['ml100k'], 'MovieLens 100K', axs[0])\n",
    "plot_pareto_front(dfs['ml1m'], 'MovieLens 1M', axs[1])\n",
    "plot_pareto_front(dfs['ft'], 'FilmTrust', axs[2])\n",
    "plot_pareto_front(dfs['anime'], 'MyAnimeList', axs[3])\n",
    "\n",
    "\n",
    "labels = [\"ResBeMF\", \"BeMF\", \"DirMF\"]\n",
    "plt.figlegend(lines, labels, loc='upper center', ncol=len(labels), bbox_to_anchor=(0.5, 1.25), fontsize=17)\n",
    "\n",
    "plt.savefig('./figs/pareto-front.png', dpi=300, bbox_inches='tight')"
   ]
  },
  {
   "cell_type": "markdown",
   "metadata": {},
   "source": [
    "## Test split error"
   ]
  },
  {
   "cell_type": "markdown",
   "metadata": {},
   "source": [
    "Define aux functions:"
   ]
  },
  {
   "cell_type": "code",
   "execution_count": null,
   "metadata": {
    "ExecuteTime": {
     "end_time": "2023-11-30T14:54:54.793721Z",
     "start_time": "2023-11-30T14:54:54.789149Z"
    }
   },
   "outputs": [],
   "source": [
    "def compute_stats (row):\n",
    "    row_without_nan = row[~np.isnan(row)]\n",
    "    mean = np.mean(row_without_nan)\n",
    "    (lower_ci, upper_ci) = st.t.interval(0.95, len(row_without_nan)-1, loc=mean, scale=st.sem(row_without_nan))\n",
    "    return [lower_ci, mean, upper_ci]\n",
    "\n",
    "def get_stats (df, method):\n",
    "    data = df.loc[:, df.columns.str.startswith(method)].to_numpy()\n",
    "    return np.array([compute_stats(row) for row in data])    "
   ]
  },
  {
   "cell_type": "markdown",
   "metadata": {},
   "source": [
    "Plot error in matrix factorization models:"
   ]
  },
  {
   "cell_type": "code",
   "execution_count": null,
   "metadata": {
    "ExecuteTime": {
     "end_time": "2023-11-30T14:55:20.890146Z",
     "start_time": "2023-11-30T14:55:15.248999Z"
    }
   },
   "outputs": [],
   "source": [
    "def plot_mf_test_error(dataset, title, axs, column):\n",
    "    \n",
    "    # load scores\n",
    "    \n",
    "    coverage_df = pd.read_csv('results/test-split/' + dataset + '/coverage.csv')\n",
    "    mae_df = pd.read_csv('results/test-split/' + dataset + '/mae.csv')\n",
    "    accuracy_df = pd.read_csv('results/test-split/' + dataset + '/accuracy.csv')\n",
    "    map_df = pd.read_csv('results/test-split/' + dataset + '/map.csv')\n",
    "\n",
    "    # filter out scores computed with a coverage lower than 0.02 (2%)\n",
    "    \n",
    "    for c in coverage_df.columns.tolist()[1:]:\n",
    "        for i in range(coverage_df['reliability'].size):\n",
    "            if coverage_df[c][i] <= 0.02:\n",
    "                mae_df[c][i] = math.nan\n",
    "                accuracy_df[c][i] = math.nan\n",
    "                map_df[c][i] = math.nan\n",
    "\n",
    "                \n",
    "    # plot column title\n",
    "    \n",
    "    axs[0, column].set_title(title, fontsize=20)\n",
    "                \n",
    "    # plot coverage\n",
    "    \n",
    "    axs[0, column].set_xlabel(r'reliability threshold ($\\theta$)', fontsize=17)\n",
    "    axs[0, column].set_ylabel('$coverage^θ$', fontsize=17)\n",
    "\n",
    "    axs[0, column].tick_params(axis='both', which='major', labelsize=14)\n",
    "\n",
    "    resbemf_coverage_stats = get_stats(coverage_df, 'ResBeMF')\n",
    "    axs[0, column].fill_between(coverage_df['reliability'], resbemf_coverage_stats[:,0], resbemf_coverage_stats[:,2], color='blue', alpha=0.1)\n",
    "    resbemf_line, = axs[0, column].plot(coverage_df['reliability'], resbemf_coverage_stats[:,1], c='blue')\n",
    "\n",
    "    bemf_coverage_stats = get_stats(coverage_df, 'BeMF')\n",
    "    axs[0, column].fill_between(coverage_df['reliability'], bemf_coverage_stats[:,0], bemf_coverage_stats[:,2], color='orange', alpha=0.1)\n",
    "    bemf_line, = axs[0, column].plot(coverage_df['reliability'], bemf_coverage_stats[:,1], c='orange')\n",
    "\n",
    "    dirmf_coverage_stats = get_stats(coverage_df, 'DirMF')\n",
    "    axs[0, column].fill_between(coverage_df['reliability'], dirmf_coverage_stats[:,0], dirmf_coverage_stats[:,2], color='green', alpha=0.1)\n",
    "    dirmf_line, = axs[0, column].plot(coverage_df['reliability'], dirmf_coverage_stats[:,1], c='green')\n",
    "\n",
    "    pmf_line, = axs[0, column].plot(coverage_df['reliability'], coverage_df['PMF'], c='red')\n",
    "    \n",
    "    # plot mae\n",
    "\n",
    "    axs[1, column].set_xlabel(r'reliability threshold ($\\theta$)', fontsize=17)\n",
    "    axs[1, column].set_ylabel('$1-mae^θ$', fontsize=17)\n",
    "\n",
    "    axs[1, column].tick_params(axis='both', which='major', labelsize=14)\n",
    "\n",
    "    resbemf_mae_stats = get_stats(mae_df, 'ResBeMF')\n",
    "    axs[1, column].fill_between(mae_df['reliability'], resbemf_mae_stats[:,0], resbemf_mae_stats[:,2], color='blue', alpha=0.1)\n",
    "    axs[1, column].plot(mae_df['reliability'], resbemf_mae_stats[:,1], c='blue')\n",
    "\n",
    "    bemf_mae_stats = get_stats(mae_df, 'BeMF')\n",
    "    axs[1, column].fill_between(mae_df['reliability'], bemf_mae_stats[:,0], bemf_mae_stats[:,2], color='orange', alpha=0.1)\n",
    "    axs[1, column].plot(mae_df['reliability'], bemf_mae_stats[:,1], c='orange')\n",
    "\n",
    "    dirmf_mae_stats = get_stats(mae_df, 'DirMF')\n",
    "    axs[1, column].fill_between(mae_df['reliability'], dirmf_mae_stats[:,0], dirmf_mae_stats[:,2], color='green', alpha=0.1)\n",
    "    axs[1, column].plot(mae_df['reliability'], dirmf_mae_stats[:,1], c='green')\n",
    "\n",
    "    axs[1, column].plot(mae_df['reliability'], mae_df['PMF'], c='red')\n",
    "\n",
    "    # plot accuracy\n",
    "\n",
    "    axs[2, column].set_xlabel(r'reliability threshold ($\\theta$)', fontsize=17)\n",
    "    axs[2, column].set_ylabel('$accuracy^θ$', fontsize=17)\n",
    "\n",
    "    axs[2, column].tick_params(axis='both', which='major', labelsize=14)\n",
    "\n",
    "    resbemf_accuracy_stats = get_stats(accuracy_df, 'ResBeMF')\n",
    "    axs[2, column].fill_between(accuracy_df['reliability'], resbemf_accuracy_stats[:,0], resbemf_accuracy_stats[:,2], color='blue', alpha=0.1)\n",
    "    axs[2, column].plot(accuracy_df['reliability'], resbemf_accuracy_stats[:,1], c='blue')\n",
    "\n",
    "    bemf_accuracy_stats = get_stats(accuracy_df, 'BeMF')\n",
    "    axs[2, column].fill_between(accuracy_df['reliability'], bemf_accuracy_stats[:,0], bemf_accuracy_stats[:,2], color='orange', alpha=0.1)\n",
    "    axs[2, column].plot(accuracy_df['reliability'], bemf_accuracy_stats[:,1], c='orange')\n",
    "\n",
    "    dirmf_accuracy_stats = get_stats(accuracy_df, 'DirMF')\n",
    "    axs[2, column].fill_between(accuracy_df['reliability'], dirmf_accuracy_stats[:,0], dirmf_accuracy_stats[:,2], color='green', alpha=0.1)\n",
    "    axs[2, column].plot(accuracy_df['reliability'], dirmf_accuracy_stats[:,1], c='green')\n",
    "\n",
    "    # plot map\n",
    "\n",
    "    axs[3, column].set_xlabel(r'reliability threshold ($\\theta$)', fontsize=17)\n",
    "    axs[3, column].set_ylabel('$map@10^θ$', fontsize=17)\n",
    "\n",
    "    axs[3, column].tick_params(axis='both', which='major', labelsize=14)\n",
    "\n",
    "    resbemf_map_stats = get_stats(map_df, 'ResBeMF')\n",
    "    axs[3, column].fill_between(map_df['reliability'], resbemf_map_stats[:,0], resbemf_map_stats[:,2], color='blue', alpha=0.1)\n",
    "    axs[3, column].plot(map_df['reliability'], resbemf_map_stats[:,1], c='blue')\n",
    "\n",
    "    bemf_map_stats = get_stats(map_df, 'BeMF')\n",
    "    axs[3, column].fill_between(map_df['reliability'], bemf_map_stats[:,0], bemf_map_stats[:,2], color='orange', alpha=0.1)\n",
    "    axs[3, column].plot(map_df['reliability'], bemf_map_stats[:,1], c='orange')\n",
    "\n",
    "    dirmf_map_stats = get_stats(map_df, 'DirMF')\n",
    "    axs[3, column].fill_between(map_df['reliability'], dirmf_map_stats[:,0], dirmf_map_stats[:,2], color='green', alpha=0.1)\n",
    "    axs[3, column].plot(map_df['reliability'], dirmf_map_stats[:,1], c='green')\n",
    "\n",
    "    axs[3, column].plot(map_df['reliability'], map_df['PMF'], c='red')\n",
    "    \n",
    "    return [resbemf_line, bemf_line, dirmf_line, pmf_line]\n",
    "\n",
    "# create plot\n",
    "\n",
    "fig, axs = plt.subplots(4, 4, figsize=(18,16))\n",
    "fig.tight_layout(h_pad=4, w_pad=6.5)\n",
    "\n",
    "# plot datasets\n",
    "\n",
    "lines = plot_mf_test_error('ml100k', 'MovieLens 100K', axs, 0)\n",
    "plot_mf_test_error('ml1m', 'MovieLens 1M', axs, 1)\n",
    "plot_mf_test_error('ft', 'FilmTrust', axs, 2)\n",
    "plot_mf_test_error('anime', 'MyAnimeList', axs, 3)\n",
    "\n",
    "# plot legend\n",
    "\n",
    "labels = ['ResBeMF', 'BeMF', 'DirMF', 'PMF']\n",
    "plt.figlegend(lines, labels, loc='upper center', ncol=len(labels), bbox_to_anchor=(0.5, 1.05), fontsize=17)\n",
    "\n",
    "# export plot\n",
    "\n",
    "plt.savefig('./figs/mf-test-error.png', dpi=300, bbox_inches='tight')"
   ]
  },
  {
   "cell_type": "markdown",
   "metadata": {},
   "source": [
    "Plot error in neural network models:"
   ]
  },
  {
   "cell_type": "code",
   "execution_count": null,
   "metadata": {
    "ExecuteTime": {
     "end_time": "2023-11-30T14:55:40.394533Z",
     "start_time": "2023-11-30T14:55:35.073806Z"
    }
   },
   "outputs": [],
   "source": [
    "def plot_nn_test_error(dataset, title, axs, column):\n",
    "    \n",
    "    # load scores\n",
    "    \n",
    "    coverage_df = pd.read_csv('results/test-split/' + dataset + '/coverage.csv')\n",
    "    mae_df = pd.read_csv('results/test-split/' + dataset + '/mae.csv')\n",
    "    accuracy_df = pd.read_csv('results/test-split/' + dataset + '/accuracy.csv')\n",
    "    map_df = pd.read_csv('results/test-split/' + dataset + '/map.csv')\n",
    "\n",
    "    # filter out scores computed with a coverage lower than 0.02 (2%)\n",
    "    \n",
    "    for c in coverage_df.columns.tolist()[1:]:\n",
    "        for i in range(coverage_df['reliability'].size):\n",
    "            if coverage_df[c][i] <= 0.02:\n",
    "                mae_df[c][i] = math.nan\n",
    "                accuracy_df[c][i] = math.nan\n",
    "                map_df[c][i] = math.nan\n",
    "\n",
    "                \n",
    "    # plot column title\n",
    "    \n",
    "    axs[0, column].set_title(title, fontsize=20)\n",
    "                \n",
    "    # plot coverage\n",
    "    \n",
    "    axs[0, column].set_xlabel(r'reliability threshold ($\\theta$)', fontsize=17)\n",
    "    axs[0, column].set_ylabel('$coverage^θ$', fontsize=17)\n",
    "\n",
    "    axs[0, column].tick_params(axis='both', which='major', labelsize=14)\n",
    "\n",
    "    resbemf_coverage_stats = get_stats(coverage_df, 'ResBeMF')\n",
    "    axs[0, column].fill_between(coverage_df['reliability'], resbemf_coverage_stats[:,0], resbemf_coverage_stats[:,2], color='blue', alpha=0.1)\n",
    "    resbemf_line, = axs[0, column].plot(coverage_df['reliability'], resbemf_coverage_stats[:,1], c='blue')\n",
    "\n",
    "    mlp_line, = axs[0, column].plot(coverage_df['reliability'], coverage_df['MLP'], c='purple')\n",
    "\n",
    "    gcmc_line, = axs[0, column].plot(coverage_df['reliability'], coverage_df['GCMC'], c='deeppink')\n",
    "\n",
    "    # plot mae\n",
    "\n",
    "    axs[1, column].set_xlabel(r'reliability threshold ($\\theta$)', fontsize=17)\n",
    "    axs[1, column].set_ylabel('$1-mae^θ$', fontsize=17)\n",
    "\n",
    "    axs[1, column].tick_params(axis='both', which='major', labelsize=14)\n",
    "\n",
    "    resbemf_mae_stats = get_stats(mae_df, 'ResBeMF')\n",
    "    axs[1, column].fill_between(mae_df['reliability'], resbemf_mae_stats[:,0], resbemf_mae_stats[:,2], color='blue', alpha=0.1)\n",
    "    axs[1, column].plot(mae_df['reliability'], resbemf_mae_stats[:,1], c='blue')\n",
    "\n",
    "    axs[1, column].plot(mae_df['reliability'], mae_df['MLP'], c='purple')\n",
    "\n",
    "    axs[1, column].plot(mae_df['reliability'], mae_df['GCMC'], c='deeppink')\n",
    "\n",
    "    # plot accuracy\n",
    "\n",
    "    axs[2, column].set_xlabel(r'reliability threshold ($\\theta$)', fontsize=17)\n",
    "    axs[2, column].set_ylabel('$accuracy^θ$', fontsize=17)\n",
    "\n",
    "    axs[2, column].tick_params(axis='both', which='major', labelsize=14)\n",
    "\n",
    "    resbemf_accuracy_stats = get_stats(accuracy_df, 'ResBeMF')\n",
    "    axs[2, column].fill_between(accuracy_df['reliability'], resbemf_accuracy_stats[:,0], resbemf_accuracy_stats[:,2], color='blue', alpha=0.1)\n",
    "    axs[2, column].plot(accuracy_df['reliability'], resbemf_accuracy_stats[:,1], c='blue')\n",
    "\n",
    "    axs[2, column].plot(accuracy_df['reliability'], accuracy_df['GCMC'], c='deeppink')\n",
    "\n",
    "    # plot map\n",
    "\n",
    "    axs[3, column].set_xlabel(r'reliability threshold ($\\theta$)', fontsize=17)\n",
    "    axs[3, column].set_ylabel('$map@10^θ$', fontsize=17)\n",
    "\n",
    "    axs[3, column].tick_params(axis='both', which='major', labelsize=14)\n",
    "\n",
    "    resbemf_map_stats = get_stats(map_df, 'ResBeMF')\n",
    "    axs[3, column].fill_between(map_df['reliability'], resbemf_map_stats[:,0], resbemf_map_stats[:,2], color='blue', alpha=0.1)\n",
    "    axs[3, column].plot(map_df['reliability'], resbemf_map_stats[:,1], c='blue')\n",
    "\n",
    "    axs[3, column].plot(map_df['reliability'], map_df['MLP'], c='purple')\n",
    "    \n",
    "    axs[3, column].plot(map_df['reliability'], map_df['GCMC'], c='deeppink')\n",
    "\n",
    "    \n",
    "    return [resbemf_line, mlp_line, gcmc_line]\n",
    "\n",
    "# create plot\n",
    "\n",
    "fig, axs = plt.subplots(4, 4, figsize=(18,16))\n",
    "fig.tight_layout(h_pad=4, w_pad=6.5)\n",
    "\n",
    "# plot datasets\n",
    "\n",
    "lines = plot_nn_test_error('ml100k', 'MovieLens 100K', axs, 0)\n",
    "plot_nn_test_error('ml1m', 'MovieLens 1M', axs, 1)\n",
    "plot_nn_test_error('ft', 'FilmTrust', axs, 2)\n",
    "plot_nn_test_error('anime', 'MyAnimeList', axs, 3)\n",
    "\n",
    "# plot legend\n",
    "\n",
    "labels = ['ResBeMF', 'MLP', 'GCMC']\n",
    "plt.figlegend(lines, labels, loc='upper center', ncol=len(labels), bbox_to_anchor=(0.5, 1.05), fontsize=17)\n",
    "\n",
    "# export plot\n",
    "\n",
    "plt.savefig('./figs/nn-test-error.png', dpi=300, bbox_inches='tight')"
   ]
  }
 ],
 "metadata": {
  "kernelspec": {
   "display_name": "Python 3",
   "language": "python",
   "name": "python3"
  },
  "language_info": {
   "codemirror_mode": {
    "name": "ipython",
    "version": 3
   },
   "file_extension": ".py",
   "mimetype": "text/x-python",
   "name": "python",
   "nbconvert_exporter": "python",
   "pygments_lexer": "ipython3",
   "version": "3.8.5"
  },
  "toc": {
   "base_numbering": 1,
   "nav_menu": {},
   "number_sections": false,
   "sideBar": true,
   "skip_h1_title": false,
   "title_cell": "Table of Contents",
   "title_sidebar": "Contents",
   "toc_cell": false,
   "toc_position": {},
   "toc_section_display": true,
   "toc_window_display": false
  }
 },
 "nbformat": 4,
 "nbformat_minor": 4
}
